{
 "cells": [
  {
   "cell_type": "code",
   "execution_count": 1,
   "metadata": {},
   "outputs": [
    {
     "data": {
      "text/html": [
       "\n",
       "            <div>\n",
       "                <p><b>SparkSession - hive</b></p>\n",
       "                \n",
       "        <div>\n",
       "            <p><b>SparkContext</b></p>\n",
       "\n",
       "            <p><a href=\"http://md01.rcc.local:4049\">Spark UI</a></p>\n",
       "\n",
       "            <dl>\n",
       "              <dt>Version</dt>\n",
       "                <dd><code>v2.4.0-cdh6.3.0</code></dd>\n",
       "              <dt>Master</dt>\n",
       "                <dd><code>yarn</code></dd>\n",
       "              <dt>AppName</dt>\n",
       "                <dd><code>pyspark-shell</code></dd>\n",
       "            </dl>\n",
       "        </div>\n",
       "        \n",
       "            </div>\n",
       "        "
      ],
      "text/plain": [
       "<pyspark.sql.session.SparkSession at 0x7f5ed92fa518>"
      ]
     },
     "execution_count": 1,
     "metadata": {},
     "output_type": "execute_result"
    }
   ],
   "source": [
    "spark"
   ]
  },
  {
   "cell_type": "code",
   "execution_count": 2,
   "metadata": {},
   "outputs": [],
   "source": [
    "#import statements\n",
    "from pyspark.sql import SparkSession\n",
    "import pandas as pd\n",
    "from pyspark.sql.functions import *\n",
    "from datetime import datetime\n",
    "from pyspark.sql.types import IntegerType, StructType, StructField, StringType"
   ]
  },
  {
   "cell_type": "code",
   "execution_count": 3,
   "metadata": {},
   "outputs": [],
   "source": [
    "spark = SparkSession.builder.appName('Final_project').getOrCreate()\n",
    "sc = spark.sparkContext"
   ]
  },
  {
   "cell_type": "code",
   "execution_count": 4,
   "metadata": {},
   "outputs": [],
   "source": [
    "#Datapath\n",
    "path_comments = \"/user/rroongseang/bigdata/comments/\"\n",
    "path_users = \"/user/rroongseang/bigdata/users/\""
   ]
  },
  {
   "cell_type": "code",
   "execution_count": 5,
   "metadata": {},
   "outputs": [],
   "source": [
    "#Read data\n",
    "df = spark.read.json(path_comments+\"politics_json*\")\n",
    "users = spark.read.csv(path_users+\"RA.2019-09.csv\", inferSchema=True, header=True)\n",
    "botusers = sqlContext.read.csv(path_users+'bot_userdata.csv',header=True)"
   ]
  },
  {
   "cell_type": "code",
   "execution_count": 6,
   "metadata": {},
   "outputs": [],
   "source": [
    "#Convert column types to integers and timestamps\n",
    "\n",
    "df = df.withColumn(\"ups\", df[\"ups\"].cast(IntegerType())) \n",
    "df = df.withColumn(\"downs\", df[\"downs\"].cast(IntegerType()))\n",
    "df = df.withColumn(\"gilded\", df[\"gilded\"].cast(IntegerType()))\n",
    "df = df.withColumn(\"score\", df[\"score\"].cast(IntegerType()))\n",
    "df = df.withColumn(\"retrieved_on\", df[\"retrieved_on\"].cast(IntegerType()))\n",
    "df = df.withColumn(\"controversiality\", df[\"controversiality\"].cast(IntegerType()))\n",
    "df = df.withColumn('created_utc',df[\"created_utc\"].cast(IntegerType()))\n",
    "df = df.withColumn('retrieved_on',df[\"retrieved_on\"].cast(IntegerType()))\n",
    "\n",
    "\n",
    "df = df.withColumn('created_utc',to_timestamp(df[\"created_utc\"]))\n",
    "df = df.withColumn('retrieved_on',to_timestamp(df[\"retrieved_on\"]))"
   ]
  },
  {
   "cell_type": "code",
   "execution_count": 7,
   "metadata": {},
   "outputs": [
    {
     "name": "stdout",
     "output_type": "stream",
     "text": [
      "root\n",
      " |-- archived: boolean (nullable = true)\n",
      " |-- author: string (nullable = true)\n",
      " |-- author_flair_css_class: string (nullable = true)\n",
      " |-- author_flair_text: string (nullable = true)\n",
      " |-- body: string (nullable = true)\n",
      " |-- controversiality: integer (nullable = true)\n",
      " |-- created_utc: timestamp (nullable = true)\n",
      " |-- distinguished: string (nullable = true)\n",
      " |-- downs: integer (nullable = true)\n",
      " |-- gilded: integer (nullable = true)\n",
      " |-- id: string (nullable = true)\n",
      " |-- link_id: string (nullable = true)\n",
      " |-- name: string (nullable = true)\n",
      " |-- parent_id: string (nullable = true)\n",
      " |-- retrieved_on: timestamp (nullable = true)\n",
      " |-- score: integer (nullable = true)\n",
      " |-- score_hidden: boolean (nullable = true)\n",
      " |-- subreddit: string (nullable = true)\n",
      " |-- subreddit_id: string (nullable = true)\n",
      " |-- ups: integer (nullable = true)\n",
      "\n"
     ]
    }
   ],
   "source": [
    "df.printSchema()"
   ]
  },
  {
   "cell_type": "code",
   "execution_count": 8,
   "metadata": {},
   "outputs": [],
   "source": [
    "#Rename a couple user columns to not duplicate with comments dataframe\n",
    "users = users.selectExpr('id',\"name as username\", \"created_utc as acct_creation\",\n",
    "                         \"updated_on\",\"comment_karma\",\"link_karma\")\n",
    "\n",
    "botusers = botusers.selectExpr('username',\"post_karma as link_karma\", \"comment_karma\",\n",
    "                                 \"cake_day as acct_creation\",\"is_bot\")"
   ]
  },
  {
   "cell_type": "code",
   "execution_count": 9,
   "metadata": {},
   "outputs": [],
   "source": [
    "import pyspark.sql.functions as sf\n",
    "#Convert account creation and updated on to timestampps\n",
    "users = users.withColumn('acct_creation',to_timestamp(users[\"acct_creation\"]))\n",
    "users = users.withColumn('updated_on',to_timestamp(users[\"updated_on\"]))\n",
    "\n",
    "#Add column is_bot\n",
    "users = users.withColumn('is_bot',sf.lit('False'))"
   ]
  },
  {
   "cell_type": "code",
   "execution_count": 10,
   "metadata": {},
   "outputs": [],
   "source": [
    "#Convert account creation and updated on to timestamps\n",
    "botusers = botusers.withColumn('link_karma',botusers[\"link_karma\"].cast(IntegerType()))\n",
    "botusers = botusers.withColumn('comment_karma',botusers[\"comment_karma\"].cast(IntegerType()))\n",
    "botusers = botusers.withColumn('acct_creation',botusers[\"acct_creation\"].cast(IntegerType()))\n",
    "botusers = botusers.withColumn('acct_creation',to_timestamp(botusers[\"acct_creation\"]))"
   ]
  },
  {
   "cell_type": "code",
   "execution_count": 11,
   "metadata": {},
   "outputs": [],
   "source": [
    "users = users.join(botusers, users.username==botusers.username, \"leftanti\")"
   ]
  },
  {
   "cell_type": "code",
   "execution_count": 12,
   "metadata": {},
   "outputs": [],
   "source": [
    "all_users = users.select('username','acct_creation','comment_karma','link_karma','is_bot')\\\n",
    "            .union(botusers.select('username','acct_creation','comment_karma','link_karma','is_bot'))"
   ]
  },
  {
   "cell_type": "code",
   "execution_count": 13,
   "metadata": {},
   "outputs": [
    {
     "name": "stdout",
     "output_type": "stream",
     "text": [
      "root\n",
      " |-- username: string (nullable = true)\n",
      " |-- acct_creation: timestamp (nullable = true)\n",
      " |-- comment_karma: integer (nullable = true)\n",
      " |-- link_karma: integer (nullable = true)\n",
      " |-- is_bot: string (nullable = true)\n",
      "\n"
     ]
    }
   ],
   "source": [
    "all_users.printSchema()"
   ]
  },
  {
   "cell_type": "code",
   "execution_count": 14,
   "metadata": {},
   "outputs": [
    {
     "name": "stdout",
     "output_type": "stream",
     "text": [
      "+-------------+-------------------+-------------+----------+------+\n",
      "|     username|      acct_creation|comment_karma|link_karma|is_bot|\n",
      "+-------------+-------------------+-------------+----------+------+\n",
      "|MiraranaMogra|2015-05-14 09:58:34|          103|      4902|  True|\n",
      "+-------------+-------------------+-------------+----------+------+\n",
      "\n"
     ]
    }
   ],
   "source": [
    "#Checking to see if one of the Russian banned accts is in the users list\n",
    "all_users.filter(all_users.username == 'MiraranaMogra').show()"
   ]
  },
  {
   "cell_type": "code",
   "execution_count": 16,
   "metadata": {},
   "outputs": [
    {
     "name": "stdout",
     "output_type": "stream",
     "text": [
      "+------------+----------------------------------------------------------------------------------------------------------------------------------------------------------------------------------------------------------------------------------------------------------------------------------------------------+\n",
      "|author      |body                                                                                                                                                                                                                                                                                                |\n",
      "+------------+----------------------------------------------------------------------------------------------------------------------------------------------------------------------------------------------------------------------------------------------------------------------------------------------------+\n",
      "|BlackToLive |By submitting to an independent, non-profit community, the authors volunteered on a Good Samaritan basis to spread wokeness                                                                                                                                                                         |\n",
      "|Maxwel_Terry|sure it isnt new..                                                                                                                                                                                                                                                                                  |\n",
      "|Peter_Hurst |There are many secret papers in the world: one could grant keys to the White House, other papers may grant the keys to a cozy prison cell. I bet that upper-governmental moguls like Soros and Koch bros own them.                                                                                  |\n",
      "|Maxwel_Terry|Our government is trying to eliminate ISIS and other terrorists from the Middle East for years. Since the Gulf war, i think. Republicans, Democrats, all sorts of warmongers. Where are the results? France is simply helpless.                                                                     |\n",
      "|Maineylops  |This isn't surprising. Sanders knew this was coming and Clinton was confident about winning.                                                                                                                                                                                                        |\n",
      "|Kevin_Milner|Here is some material about Hillary and her ties to oil lobby.\n",
      "http://www.greenpeace.org/usa/campaign-updates/hillary-clintons-connection-oil-gas-industry/                                                                                                                                         |\n",
      "|mr_clampin  |she's really sick                                                                                                                                                                                                                                                                                   |\n",
      "|Maineylops  |Nope ofcourse not. \"99 out of 100\" had no based facts. If Mr. Trump maintains his current level of support in the remaining races, he could win a delegate majority before the convention, but it will be close. '99 of 100' was what my fellow russians with me voiced. it nener turned to  be so. |\n",
      "|Maineylops  |New York Times says..\n",
      "Donald J. Trump - 742\n",
      "Ted Cruz - 505\n",
      "Marco Rubio - 171\n",
      "John Kasich - 143\n",
      "\n",
      "Average results after April 5\n",
      "\n",
      "Trump 44%\n",
      "Cruz 43%\n",
      "Kasich 13%                                                                                                                                        |\n",
      "|Peter_Hurst |Bill accidentally took money from Algeria.\n",
      "\"I am not guilty, this happened subconsciously. I ate honey with my hands and $500,000 stuck to the hands themselves\"                                                                                                                                    |\n",
      "+------------+----------------------------------------------------------------------------------------------------------------------------------------------------------------------------------------------------------------------------------------------------------------------------------------------------+\n",
      "\n"
     ]
    }
   ],
   "source": [
    "#Checking to see if one of the Russian comments show up in the comments.\n",
    "banned = pd.read_csv('bot_accounts2019.csv')['bot_acct'].tolist()\n",
    "\n",
    "df.filter(df.author.isin(banned)).select('author','body').show(truncate = False)\n",
    "\n",
    "#THEY DO!! Nice!"
   ]
  },
  {
   "cell_type": "code",
   "execution_count": 17,
   "metadata": {},
   "outputs": [],
   "source": [
    "#Combining data frames\n",
    "df_combined = df.join(all_users, df.author == users.username, 'left')"
   ]
  },
  {
   "cell_type": "code",
   "execution_count": 34,
   "metadata": {},
   "outputs": [
    {
     "name": "stdout",
     "output_type": "stream",
     "text": [
      "+------------+--------------------+---+-----+-------------------+-------------------+------------+------+\n",
      "|      author|                body|ups|downs|        created_utc|      acct_creation|    username|is_bot|\n",
      "+------------+--------------------+---+-----+-------------------+-------------------+------------+------+\n",
      "| BlackToLive|By submitting to ...|  0| null|2016-07-05 12:58:29|2016-07-04 20:13:18| BlackToLive|  True|\n",
      "|Maxwel_Terry|  sure it isnt new..| -7| null|2016-04-23 09:40:28|2016-04-19 08:46:36|Maxwel_Terry|  True|\n",
      "| Peter_Hurst|There are many se...|  4| null|2016-04-05 08:53:23|2016-03-30 08:02:39| Peter_Hurst|  True|\n",
      "|Maxwel_Terry|Our government is...|  1| null|2016-07-28 09:11:19|2016-04-19 08:46:36|Maxwel_Terry|  True|\n",
      "|  Maineylops|This isn't surpri...|  4| null|2016-04-19 20:41:05|2016-03-18 05:16:23|  Maineylops|  True|\n",
      "+------------+--------------------+---+-----+-------------------+-------------------+------------+------+\n",
      "only showing top 5 rows\n",
      "\n"
     ]
    }
   ],
   "source": [
    "#show sample combined dataframe\n",
    "df_combined.select(df.author,df.body,df.ups,df.downs,df.created_utc,\n",
    "                   all_users.acct_creation,all_users.username,all_users.is_bot)\\\n",
    "                    .filter(all_users.username.isNotNull()).show(5)"
   ]
  },
  {
   "cell_type": "code",
   "execution_count": 20,
   "metadata": {},
   "outputs": [
    {
     "data": {
      "text/plain": [
       "5158836"
      ]
     },
     "execution_count": 20,
     "metadata": {},
     "output_type": "execute_result"
    }
   ],
   "source": [
    "#Number of usernames matched \n",
    "df_combined.filter(users.username.isNotNull()).count()"
   ]
  },
  {
   "cell_type": "code",
   "execution_count": 21,
   "metadata": {},
   "outputs": [
    {
     "data": {
      "text/plain": [
       "6420881"
      ]
     },
     "execution_count": 21,
     "metadata": {},
     "output_type": "execute_result"
    }
   ],
   "source": [
    "#number of comments in original df\n",
    "df.count()"
   ]
  },
  {
   "cell_type": "code",
   "execution_count": 22,
   "metadata": {},
   "outputs": [
    {
     "data": {
      "text/plain": [
       "6420881"
      ]
     },
     "execution_count": 22,
     "metadata": {},
     "output_type": "execute_result"
    }
   ],
   "source": [
    "#number of comments in combined df\n",
    "df_combined.count()"
   ]
  },
  {
   "cell_type": "code",
   "execution_count": null,
   "metadata": {},
   "outputs": [],
   "source": []
  }
 ],
 "metadata": {
  "kernelspec": {
   "display_name": "pySpark",
   "language": "python",
   "name": "pyspark"
  },
  "language_info": {
   "codemirror_mode": {
    "name": "ipython",
    "version": 3
   },
   "file_extension": ".py",
   "mimetype": "text/x-python",
   "name": "python",
   "nbconvert_exporter": "python",
   "pygments_lexer": "ipython3",
   "version": "3.6.8"
  }
 },
 "nbformat": 4,
 "nbformat_minor": 2
}
